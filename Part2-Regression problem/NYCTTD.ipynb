{
 "cells": [
  {
   "metadata": {
    "ExecuteTime": {
     "end_time": "2025-04-08T15:09:38.073791Z",
     "start_time": "2025-04-08T15:09:37.304885Z"
    }
   },
   "cell_type": "code",
   "source": [
    "from pyspark.sql import SparkSession\n",
    "from pyspark.ml.regression import GBTRegressor, DecisionTreeRegressor\n",
    "from xgboost.spark import SparkXGBRegressor\n",
    "from pyspark.ml.feature import StringIndexer, VectorAssembler, StandardScaler\n",
    "from pyspark.ml import Pipeline\n",
    "from pyspark.sql.functions import hour, dayofweek, log1p\n",
    "from pyspark.sql.functions import round, when, col\n",
    "from pyspark.sql.functions import log1p\n",
    "import psutil\n",
    "import threading\n",
    "import builtins\n",
    "from pyspark.ml.tuning import ParamGridBuilder, CrossValidator\n",
    "from pyspark.ml.regression import RandomForestRegressor\n",
    "from pyspark.ml.evaluation import RegressionEvaluator\n",
    "from sklearn.neighbors import KNeighborsRegressor\n",
    "from sklearn.metrics import mean_squared_error, r2_score\n",
    "from pyspark.sql.functions import udf\n",
    "from pyspark.sql.types import ArrayType, DoubleType\n",
    "import numpy as np\n",
    "import time"
   ],
   "id": "fa4e64ca47c20871",
   "outputs": [
    {
     "name": "stderr",
     "output_type": "stream",
     "text": [
      "/usr/local/lib/python3.8/dist-packages/xgboost/core.py:265: FutureWarning: Your system has an old version of glibc (< 2.28). We will stop supporting Linux distros with glibc older than 2.28 after **May 31, 2025**. Please upgrade to a recent Linux distro (with glibc 2.28+) to use future versions of XGBoost.\n",
      "Note: You have installed the 'manylinux2014' variant of XGBoost. Certain features such as GPU algorithms or federated learning are not available. To use these features, please upgrade to a recent Linux distro with glibc 2.28+, and install the 'manylinux_2_28' variant.\n",
      "  warnings.warn(\n"
     ]
    }
   ],
   "execution_count": 1
  },
  {
   "metadata": {
    "ExecuteTime": {
     "end_time": "2025-04-08T15:09:49.511527Z",
     "start_time": "2025-04-08T15:09:40.435469Z"
    }
   },
   "cell_type": "code",
   "source": [
    "spark = SparkSession.builder.appName(\"NewYorkCityTaxiTripDuration\") \\\n",
    "    .master(\"local[*]\") \\\n",
    "    .config(\"spark.executor.memory\", \"8g\") \\\n",
    "    .config(\"spark.driver.memory\", \"8g\") \\\n",
    "    .config(\"spark.memory.fraction\", \"0.9\") \\\n",
    "    .getOrCreate()\n",
    "\n",
    "spark.sparkContext.setLogLevel(\"ERROR\")"
   ],
   "id": "a9c22d566b19822",
   "outputs": [
    {
     "name": "stderr",
     "output_type": "stream",
     "text": [
      "25/04/08 18:09:44 WARN Utils: Your hostname, dgour-HP-Laptop-15-db1xxx resolves to a loopback address: 127.0.1.1; using 192.168.1.56 instead (on interface wlo1)\n",
      "25/04/08 18:09:44 WARN Utils: Set SPARK_LOCAL_IP if you need to bind to another address\n",
      "Setting default log level to \"WARN\".\n",
      "To adjust logging level use sc.setLogLevel(newLevel). For SparkR, use setLogLevel(newLevel).\n",
      "25/04/08 18:09:45 WARN NativeCodeLoader: Unable to load native-hadoop library for your platform... using builtin-java classes where applicable\n"
     ]
    }
   ],
   "execution_count": 2
  },
  {
   "metadata": {
    "ExecuteTime": {
     "end_time": "2025-04-08T15:10:12.882872Z",
     "start_time": "2025-04-08T15:09:54.478105Z"
    }
   },
   "cell_type": "code",
   "source": [
    "full_data = spark.read.csv(\"train.csv\", header=True, inferSchema=True)"
   ],
   "id": "d9b2d132f97e204d",
   "outputs": [
    {
     "name": "stderr",
     "output_type": "stream",
     "text": [
      "                                                                                \r"
     ]
    }
   ],
   "execution_count": 3
  },
  {
   "metadata": {
    "ExecuteTime": {
     "end_time": "2025-04-08T15:10:15.563076Z",
     "start_time": "2025-04-08T15:10:15.536852Z"
    }
   },
   "cell_type": "code",
   "source": [
    "full_data = full_data.sample(fraction=0.1, seed=42)"
   ],
   "id": "e20a2950bac862f0",
   "outputs": [],
   "execution_count": 4
  },
  {
   "metadata": {
    "ExecuteTime": {
     "end_time": "2025-04-08T15:10:33.186291Z",
     "start_time": "2025-04-08T15:10:18.295500Z"
    }
   },
   "cell_type": "code",
   "source": [
    "# Indexers\n",
    "vendor_indexer = StringIndexer(inputCol=\"vendor_id\", outputCol=\"vendor_id_index\", handleInvalid=\"keep\")\n",
    "store_flag_indexer = StringIndexer(inputCol=\"store_and_fwd_flag\", outputCol=\"store_and_fwd_index\", handleInvalid=\"keep\")\n",
    "\n",
    "# Δημιουργία χρονικών χαρακτηριστικών\n",
    "full_data = full_data.withColumn(\"pickup_hour\", hour(col(\"pickup_datetime\")))\n",
    "full_data = full_data.withColumn(\"pickup_weekday\", dayofweek(col(\"pickup_datetime\")))\n",
    "full_data = full_data.withColumn(\"dropoff_hour\", hour(col(\"dropoff_datetime\")))\n",
    "full_data = full_data.withColumn(\"dropoff_weekday\", dayofweek(col(\"dropoff_datetime\")))\n",
    "\n",
    "full_feature_cols = [\n",
    "    \"vendor_id_index\", \"store_and_fwd_index\",\n",
    "    \"passenger_count\", \"pickup_longitude\", \"pickup_latitude\",\n",
    "    \"dropoff_longitude\", \"dropoff_latitude\",\n",
    "    \"pickup_hour\", \"pickup_weekday\",\n",
    "    \"dropoff_hour\", \"dropoff_weekday\"\n",
    "]\n",
    "\n",
    "# VectorAssembler\n",
    "assembler = VectorAssembler(inputCols=full_feature_cols, outputCol=\"features\")\n",
    "\n",
    "# Z-score κανονικοποίηση\n",
    "scaler = StandardScaler(inputCol=\"features\", outputCol=\"scaled_features\", withMean=True, withStd=True)\n",
    "\n",
    "pipeline = Pipeline(stages=[\n",
    "    vendor_indexer,\n",
    "    store_flag_indexer,\n",
    "    assembler,\n",
    "    scaler\n",
    "])\n",
    "\n",
    "# Fit και Transform\n",
    "pipeline_model = pipeline.fit(full_data)\n",
    "full_data = pipeline_model.transform(full_data)\n",
    "\n",
    "# Τελική επιλογή στηλών\n",
    "full_data = full_data.select(\"scaled_features\", \"trip_duration\")\n",
    "full_data = full_data.withColumn(\"trip_duration\", log1p(col(\"trip_duration\")))\n"
   ],
   "id": "3ced2bce5ff5414",
   "outputs": [
    {
     "name": "stderr",
     "output_type": "stream",
     "text": [
      "                                                                                \r"
     ]
    }
   ],
   "execution_count": 5
  },
  {
   "metadata": {
    "ExecuteTime": {
     "end_time": "2025-04-08T15:10:44.764497Z",
     "start_time": "2025-04-08T15:10:44.742461Z"
    }
   },
   "cell_type": "code",
   "source": [
    "# Ορισμός κλάσης για την παρακολούθηση των τιμών των υπολογιστικών πόρων(CPU, memory, Disk I/O)\n",
    "\n",
    "class ResourceMonitorListener:\n",
    "    def __init__(self):\n",
    "        self.cpu_percentages = []\n",
    "        self.mem_percentages = []\n",
    "        self.disk_reads = []\n",
    "        self.disk_writes = []\n",
    "        self.monitoring = False\n",
    "\n",
    "    def start_monitoring(self):\n",
    "        self.monitoring = True\n",
    "        self.cpu_percentages = []\n",
    "        self.mem_percentages = []\n",
    "        self.disk_reads = [psutil.disk_io_counters().read_bytes]\n",
    "        self.disk_writes = [psutil.disk_io_counters().write_bytes]\n",
    "\n",
    "# Δημιουργία thread: κάθε 1 δευτερόλεπτο ενημερώνει τις λίστες που περιέχουν τις τιμές των πόρων\n",
    "        def monitor_loop():\n",
    "            while self.monitoring:\n",
    "                self.cpu_percentages.append(psutil.cpu_percent(interval=1))\n",
    "                self.mem_percentages.append(psutil.virtual_memory().percent)\n",
    "                disk_io = psutil.disk_io_counters()\n",
    "                self.disk_reads.append(disk_io.read_bytes)\n",
    "                self.disk_writes.append(disk_io.write_bytes)\n",
    "\n",
    "        self.monitor_thread = threading.Thread(target=monitor_loop, daemon=True)\n",
    "        self.monitor_thread.start()\n",
    "\n",
    "# Διακοπή του thread \n",
    "    def stop_monitoring(self):\n",
    "        self.monitoring = False\n",
    "        self.monitor_thread.join()\n",
    "\n",
    "        self.disk_reads = [x for x in self.disk_reads if isinstance(x, (int, float))]\n",
    "        self.disk_writes = [x for x in self.disk_writes if isinstance(x, (int, float))]\n",
    "\n",
    "        # Υπολογισμός των τελικών τιμών\n",
    "        cpu_avg = sum(self.cpu_percentages) / len(self.cpu_percentages) if self.cpu_percentages else 0\n",
    "        mem_avg = sum(self.mem_percentages) / len(self.mem_percentages) if self.mem_percentages else 0\n",
    "\n",
    "        # Χρήση των ενσωματωμένων max/min της Python(και όχι του PySpark)\n",
    "        disk_read_mb = ((builtins.max(self.disk_reads) - builtins.min(self.disk_reads)) / (1024 * 1024)) if self.disk_reads else 0\n",
    "        disk_write_mb = ((builtins.max(self.disk_writes) - builtins.min(self.disk_writes)) / (1024 * 1024)) if self.disk_writes else 0\n",
    "\n",
    "        # Επιστρέφει ένα λεξικό που περιέχει τις μετρήσεις\n",
    "        return {\n",
    "            \"cpu_usage\": cpu_avg,\n",
    "            \"mem_usage\": mem_avg,\n",
    "            \"disk_read_mb\": disk_read_mb,\n",
    "            \"disk_write_mb\": disk_write_mb\n",
    "        }"
   ],
   "id": "1f26fc3b2505e92d",
   "outputs": [],
   "execution_count": 6
  },
  {
   "metadata": {
    "ExecuteTime": {
     "end_time": "2025-04-08T15:10:48.124225Z",
     "start_time": "2025-04-08T15:10:48.070072Z"
    }
   },
   "cell_type": "code",
   "source": [
    "train_data, test_data = full_data.randomSplit([0.8, 0.2], seed=42)"
   ],
   "id": "dbd32b3f3c02cd2a",
   "outputs": [],
   "execution_count": 7
  },
  {
   "metadata": {
    "ExecuteTime": {
     "end_time": "2025-04-06T08:54:20.698020Z",
     "start_time": "2025-04-06T08:46:13.823249Z"
    }
   },
   "cell_type": "code",
   "source": [
    "# Εύρεση των κατάλληλων παραμέτρων για το μοντέλο Random Forest Regressor\n",
    "# Πραγματοποιήθηκε για όλα τα μοντέλα, αλλά παρουσιάζεται η διαδικασία για 2 μοντέλα(RF και DT).\n",
    "\n",
    "# Ορισμός του Random Forest Regressor\n",
    "rf = RandomForestRegressor(featuresCol=\"scaled_features\", labelCol=\"trip_duration\")\n",
    "\n",
    "# Ορισμός παραμέτρων για Grid Search\n",
    "paramGrid = (ParamGridBuilder()\n",
    "             .addGrid(rf.numTrees, [50, 100])  \n",
    "             .addGrid(rf.maxDepth, [5, 10])  \n",
    "             .addGrid(rf.minInstancesPerNode, [1, 5])  \n",
    "             .build())\n",
    "\n",
    "evaluator_rmse = RegressionEvaluator(labelCol=\"trip_duration\", predictionCol=\"prediction\", metricName=\"rmse\")\n",
    "evaluator_r2 = RegressionEvaluator(labelCol=\"trip_duration\", predictionCol=\"prediction\", metricName=\"r2\")\n",
    "\n",
    "# Ορισμός του CrossValidator\n",
    "cv = CrossValidator(\n",
    "    estimator=rf,\n",
    "    estimatorParamMaps=paramGrid,\n",
    "    evaluator=evaluator_rmse,  # Βασικό metric για βελτιστοποίηση\n",
    "    numFolds=3,\n",
    "    parallelism=2  # Επιτάχυνση με parallelism\n",
    ")\n",
    "\n",
    "# Εκπαίδευση του μοντέλου \n",
    "cv_model = cv.fit(train_data)\n",
    "\n",
    "best_model = cv_model.bestModel\n",
    "predictions = best_model.transform(test_data)\n",
    "\n",
    "# Υπολογισμός RMSE και R-squared\n",
    "rmse = evaluator_rmse.evaluate(predictions)\n",
    "r2 = evaluator_r2.evaluate(predictions)\n",
    "\n",
    "# Εμφάνιση αποτελεσμάτων\n",
    "print(f\"Best Model RMSE: {rmse:.4f} | R²: {r2:.4f}\")\n",
    "print(\" Best Parameters:\")\n",
    "print(f\"numTrees: {best_model.getNumTrees}\")\n",
    "print(f\"maxDepth: {best_model.getOrDefault('maxDepth')}\")\n",
    "print(f\"minInstancesPerNode: {best_model.getOrDefault('minInstancesPerNode')}\")\n"
   ],
   "id": "98690a2edef26d35",
   "outputs": [
    {
     "name": "stderr",
     "output_type": "stream",
     "text": [
      "[Stage 553:=====================>                                   (3 + 5) / 8]\r"
     ]
    },
    {
     "name": "stdout",
     "output_type": "stream",
     "text": [
      "Best Model RMSE: 0.6123 | R²: 0.4128\n",
      " Best Parameters:\n",
      "numTrees: 100\n",
      "maxDepth: 10\n",
      "minInstancesPerNode: 1\n"
     ]
    },
    {
     "name": "stderr",
     "output_type": "stream",
     "text": [
      "                                                                                \r"
     ]
    }
   ],
   "execution_count": 9
  },
  {
   "metadata": {
    "ExecuteTime": {
     "end_time": "2025-04-06T08:26:57.376318Z",
     "start_time": "2025-04-06T08:24:42.249161Z"
    }
   },
   "cell_type": "code",
   "source": [
    "# Εύρεση των κατάλληλων παραμέτρων για το μοντέλο Decision Tree Regressor\n",
    "\n",
    "# Ορισμός του Decision Tree Regressor\n",
    "dt = DecisionTreeRegressor(featuresCol=\"scaled_features\", labelCol=\"trip_duration\")\n",
    "\n",
    "# Πλέγμα παραμέτρων για Grid Search\n",
    "paramGrid = (ParamGridBuilder()\n",
    "             .addGrid(dt.maxDepth, [5, 10, 15])\n",
    "             .addGrid(dt.minInstancesPerNode, [1, 5, 10])\n",
    "             .addGrid(dt.maxBins, [32, 64])  \n",
    "             .build())\n",
    "\n",
    "# Αξιολογητές\n",
    "evaluator_rmse = RegressionEvaluator(labelCol=\"trip_duration\", predictionCol=\"prediction\", metricName=\"rmse\")\n",
    "evaluator_r2 = RegressionEvaluator(labelCol=\"trip_duration\", predictionCol=\"prediction\", metricName=\"r2\")\n",
    "\n",
    "# CrossValidator\n",
    "cv = CrossValidator(\n",
    "    estimator=dt,\n",
    "    estimatorParamMaps=paramGrid,\n",
    "    evaluator=evaluator_rmse,\n",
    "    numFolds=3,\n",
    "    parallelism=2\n",
    ")\n",
    "\n",
    "# Εκπαίδευση\n",
    "cv_model = cv.fit(train_data)\n",
    "\n",
    "# Πρόβλεψη\n",
    "best_model = cv_model.bestModel\n",
    "predictions = best_model.transform(test_data)\n",
    "\n",
    "# Αξιολόγηση\n",
    "rmse = evaluator_rmse.evaluate(predictions)\n",
    "r2 = evaluator_r2.evaluate(predictions)\n",
    "\n",
    "print(f\"\\nDecision Tree Regressor (Tuned) RMSE: {rmse:.4f} | R²: {r2:.4f}\")\n",
    "print(\"Best Parameters:\")\n",
    "print(f\" - maxDepth: {best_model.getOrDefault('maxDepth')}\")\n",
    "print(f\" - minInstancesPerNode: {best_model.getOrDefault('minInstancesPerNode')}\")\n",
    "print(f\" - maxBins: {best_model.getOrDefault('maxBins')}\")\n"
   ],
   "id": "e498580458e899c6",
   "outputs": [
    {
     "name": "stderr",
     "output_type": "stream",
     "text": [
      "[Stage 1463:==============>                                         (2 + 6) / 8]\r"
     ]
    },
    {
     "name": "stdout",
     "output_type": "stream",
     "text": [
      "\n",
      "Decision Tree Regressor (Tuned) RMSE: 0.5621 | R²: 0.5050\n",
      "Best Parameters:\n",
      " - maxDepth: 15\n",
      " - minInstancesPerNode: 10\n",
      " - maxBins: 64\n"
     ]
    },
    {
     "name": "stderr",
     "output_type": "stream",
     "text": [
      "                                                                                \r"
     ]
    }
   ],
   "execution_count": 8
  },
  {
   "metadata": {
    "ExecuteTime": {
     "end_time": "2025-04-06T14:32:47.065921Z",
     "start_time": "2025-04-06T14:19:59.157752Z"
    }
   },
   "cell_type": "code",
   "source": [
    "# Βελτίωση της απόδοσης του Spark:\n",
    "# 1) Κατανομή των δεδομένων σε 20 partitions.\n",
    "# 2) Αποθήκευση των δεδομένων στη μνήμη RAM.Αν ξαναχρειαστούμε τα δεδομένα δε θα διαβαστούν από το δίσκο.\n",
    "train_data = train_data.repartition(20).cache()\n",
    "train_count = train_data.count()\n",
    "\n",
    "# Κλάση υπεύθυνη για την παρακολούθηση των τιμών των υπολογιστικών πόρων(CPU, memory, Disk I/O)\n",
    "monitor = ResourceMonitorListener()\n",
    "\n",
    "# Διαφορετικά μεγέθη δεδομένων για scaling test\n",
    "sizes = [0.1, 0.25, 0.5, 1]\n",
    "\n",
    "for size in sizes:\n",
    "    print(f\"Training with {size * 100}% of data\")\n",
    "\n",
    "    # Επιλογή τυχαίου δείγματος δεδομένων\n",
    "    if size == 1:\n",
    "        train_subset = train_data  # Χρησιμοποιούμε όλο το train_data για 100%\n",
    "    else:\n",
    "        # Επιλογή τυχαίου τμήματος δεδομένων για τα άλλα ποσοστά\n",
    "        train_subset = train_data.sample(fraction=size, seed=42)\n",
    "\n",
    "    # Μοντέλα \n",
    "    models = {\n",
    "        \"Random Forest Regressor\": RandomForestRegressor(\n",
    "            featuresCol=\"scaled_features\",\n",
    "            labelCol=\"trip_duration\",\n",
    "            numTrees=100,\n",
    "            maxDepth=10,\n",
    "            minInstancesPerNode=1\n",
    "        ),\n",
    "\n",
    "        \"XGBoost Regressor\": SparkXGBRegressor(features_col=\"scaled_features\", label_col=\"trip_duration\", num_workers=2),\n",
    "\n",
    "        \"GBT Regressor\": GBTRegressor(\n",
    "            featuresCol='scaled_features',\n",
    "            labelCol='trip_duration',\n",
    "            maxIter=100,\n",
    "            maxDepth=5\n",
    "        ),\n",
    "        \"Decision Tree Regressor\": DecisionTreeRegressor(\n",
    "            featuresCol='scaled_features',\n",
    "            labelCol='trip_duration',\n",
    "            maxDepth=15,\n",
    "            minInstancesPerNode=10,\n",
    "            maxBins=64\n",
    "        )\n",
    "    }\n",
    "\n",
    "    # Αξιολόγηση(δημοφιλείς μετρικές)\n",
    "    evaluator_rmse = RegressionEvaluator(labelCol=\"trip_duration\", predictionCol=\"prediction\", metricName=\"rmse\")\n",
    "    evaluator_r2 = RegressionEvaluator(labelCol=\"trip_duration\", predictionCol=\"prediction\", metricName=\"r2\")\n",
    "\n",
    "    for name, model in models.items():\n",
    "        print(f\"\\nTraining {name}...\")\n",
    "\n",
    "        # Υπολογισμοί των πόρων που χρησιμοποιήθηκαν κατά το training και το inference\n",
    "        monitor.start_monitoring()\n",
    "        start_train = time.time()\n",
    "\n",
    "        trained_model = model.fit(train_subset)\n",
    "        training_time = time.time() - start_train\n",
    "\n",
    "        train_metrics = monitor.stop_monitoring()\n",
    "\n",
    "        # Καθυστέρηση για σταθεροποίηση των μετρήσεων\n",
    "        time.sleep(3)\n",
    "\n",
    "        start_infer = time.time()\n",
    "        monitor.start_monitoring()\n",
    "\n",
    "        predictions = trained_model.transform(test_data)\n",
    "        inference_latency = time.time() - start_infer\n",
    "\n",
    "        infer_metrics = monitor.stop_monitoring()\n",
    "\n",
    "        # Δε θέλουμε predictions<0 (γιατί δεν υπάρχουν διαδρομές που διαρκούν<0 sec)\n",
    "        # Θέλουμε ακέραιους αριθμούς ως prediction.\n",
    "        predictions = predictions.withColumn(\n",
    "            \"prediction\",\n",
    "            when(col(\"prediction\") < 0, 0).otherwise(round(col(\"prediction\"), 0))\n",
    "        )\n",
    "\n",
    "        # Υπολογισμός μετρικών\n",
    "        rmse = evaluator_rmse.evaluate(predictions)\n",
    "        r2 = evaluator_r2.evaluate(predictions)\n",
    "\n",
    "        # Εκτύπωση αποτελεσμάτων\n",
    "        print(f\"\\n{name} (Data Size: {size * 100}%)\")\n",
    "        print(f\"RMSE: {rmse:.4f}\")\n",
    "        print(f\"R-Squared: {r2:.4f}\")\n",
    "        print(f\"Training Time: {training_time:.2f} sec - Inference Latency: {inference_latency:.2f} sec\")\n",
    "        print(f\"*Training* CPU: {train_metrics['cpu_usage']:.2f}% | Memory: {train_metrics['mem_usage']:.2f}%\")\n",
    "        print(f\"*Training* Disk Read: {train_metrics['disk_read_mb']:.2f} MB | Write: {train_metrics['disk_write_mb']:.2f} MB\")\n",
    "        print(f\"*Inference* CPU: {infer_metrics['cpu_usage']:.2f}% | Memory: {infer_metrics['mem_usage']:.2f}%\")\n",
    "        print(f\"*Inference* Disk Read: {infer_metrics['disk_read_mb']:.2f} MB | Write: {infer_metrics['disk_write_mb']:.2f} MB\")"
   ],
   "id": "89dc31cea0adf08c",
   "outputs": [
    {
     "name": "stderr",
     "output_type": "stream",
     "text": [
      "                                                                                \r"
     ]
    },
    {
     "name": "stdout",
     "output_type": "stream",
     "text": [
      "Training with 10.0% of data\n",
      "\n",
      "Training Random Forest Regressor...\n"
     ]
    },
    {
     "name": "stderr",
     "output_type": "stream",
     "text": [
      "                                                                                \r"
     ]
    },
    {
     "name": "stdout",
     "output_type": "stream",
     "text": [
      "\n",
      "Random Forest Regressor (Data Size: 10.0%)\n",
      "RMSE: 0.6716\n",
      "R-Squared: 0.2935\n",
      "Training Time: 30.80 sec - Inference Latency: 0.69 sec\n",
      "*Training* CPU: 81.81% | Memory: 88.64%\n",
      "*Training* Disk Read: 25.69 MB | Write: 301.15 MB\n",
      "*Inference* CPU: 13.90% | Memory: 92.80%\n",
      "*Inference* Disk Read: 0.30 MB | Write: 0.00 MB\n",
      "\n",
      "Training XGBoost Regressor...\n"
     ]
    },
    {
     "name": "stderr",
     "output_type": "stream",
     "text": [
      "2025-04-06 17:20:48,677 INFO XGBoost-PySpark: _fit Running xgboost-2.1.4 on 2 workers with\n",
      "\tbooster params: {'objective': 'reg:squarederror', 'device': 'cpu', 'nthread': 1}\n",
      "\ttrain_call_kwargs_params: {'verbose_eval': True, 'num_boost_round': 100}\n",
      "\tdmatrix_kwargs: {'nthread': 1, 'missing': nan}\n",
      "/usr/local/lib/python3.8/dist-packages/xgboost/core.py:265: FutureWarning: Your system has an old version of glibc (< 2.28). We will stop supporting Linux distros with glibc older than 2.28 after **May 31, 2025**. Please upgrade to a recent Linux distro (with glibc 2.28+) to use future versions of XGBoost.\n",
      "Note: You have installed the 'manylinux2014' variant of XGBoost. Certain features such as GPU algorithms or federated learning are not available. To use these features, please upgrade to a recent Linux distro with glibc 2.28+, and install the 'manylinux_2_28' variant.\n",
      "  warnings.warn(\n",
      "/usr/local/lib/python3.8/dist-packages/xgboost/core.py:265: FutureWarning: Your system has an old version of glibc (< 2.28). We will stop supporting Linux distros with glibc older than 2.28 after **May 31, 2025**. Please upgrade to a recent Linux distro (with glibc 2.28+) to use future versions of XGBoost.\n",
      "Note: You have installed the 'manylinux2014' variant of XGBoost. Certain features such as GPU algorithms or federated learning are not available. To use these features, please upgrade to a recent Linux distro with glibc 2.28+, and install the 'manylinux_2_28' variant.\n",
      "  warnings.warn(\n",
      "2025-04-06 17:20:53,823 INFO XGBoost-PySpark: _train_booster Training on CPUs\n",
      "[17:20:54] Task 1 got rank 1[17:20:54] Task 0 got rank 0\n",
      "\n",
      "2025-04-06 17:20:56,823 INFO XGBoost-PySpark: _fit Finished xgboost training!   \n",
      "2025-04-06 17:21:01,708 INFO XGBoost-PySpark: predict_udf Do the inference on the CPUs\n",
      "/usr/local/lib/python3.8/dist-packages/xgboost/core.py:265: FutureWarning: Your system has an old version of glibc (< 2.28). We will stop supporting Linux distros with glibc older than 2.28 after **May 31, 2025**. Please upgrade to a recent Linux distro (with glibc 2.28+) to use future versions of XGBoost.\n",
      "Note: You have installed the 'manylinux2014' variant of XGBoost. Certain features such as GPU algorithms or federated learning are not available. To use these features, please upgrade to a recent Linux distro with glibc 2.28+, and install the 'manylinux_2_28' variant.\n",
      "  warnings.warn(\n",
      "/usr/local/lib/python3.8/dist-packages/xgboost/core.py:265: FutureWarning: Your system has an old version of glibc (< 2.28). We will stop supporting Linux distros with glibc older than 2.28 after **May 31, 2025**. Please upgrade to a recent Linux distro (with glibc 2.28+) to use future versions of XGBoost.\n",
      "Note: You have installed the 'manylinux2014' variant of XGBoost. Certain features such as GPU algorithms or federated learning are not available. To use these features, please upgrade to a recent Linux distro with glibc 2.28+, and install the 'manylinux_2_28' variant.\n",
      "  warnings.warn(\n",
      "/usr/local/lib/python3.8/dist-packages/xgboost/core.py:265: FutureWarning: Your system has an old version of glibc (< 2.28). We will stop supporting Linux distros with glibc older than 2.28 after **May 31, 2025**. Please upgrade to a recent Linux distro (with glibc 2.28+) to use future versions of XGBoost.\n",
      "Note: You have installed the 'manylinux2014' variant of XGBoost. Certain features such as GPU algorithms or federated learning are not available. To use these features, please upgrade to a recent Linux distro with glibc 2.28+, and install the 'manylinux_2_28' variant.\n",
      "  warnings.warn(\n",
      "/usr/local/lib/python3.8/dist-packages/xgboost/core.py:265: FutureWarning: Your system has an old version of glibc (< 2.28). We will stop supporting Linux distros with glibc older than 2.28 after **May 31, 2025**. Please upgrade to a recent Linux distro (with glibc 2.28+) to use future versions of XGBoost.\n",
      "Note: You have installed the 'manylinux2014' variant of XGBoost. Certain features such as GPU algorithms or federated learning are not available. To use these features, please upgrade to a recent Linux distro with glibc 2.28+, and install the 'manylinux_2_28' variant.\n",
      "  warnings.warn(\n",
      "/usr/local/lib/python3.8/dist-packages/xgboost/core.py:265: FutureWarning: Your system has an old version of glibc (< 2.28). We will stop supporting Linux distros with glibc older than 2.28 after **May 31, 2025**. Please upgrade to a recent Linux distro (with glibc 2.28+) to use future versions of XGBoost.\n",
      "Note: You have installed the 'manylinux2014' variant of XGBoost. Certain features such as GPU algorithms or federated learning are not available. To use these features, please upgrade to a recent Linux distro with glibc 2.28+, and install the 'manylinux_2_28' variant.\n",
      "  warnings.warn(\n",
      "/usr/local/lib/python3.8/dist-packages/xgboost/core.py:265: FutureWarning: Your system has an old version of glibc (< 2.28). We will stop supporting Linux distros with glibc older than 2.28 after **May 31, 2025**. Please upgrade to a recent Linux distro (with glibc 2.28+) to use future versions of XGBoost.\n",
      "Note: You have installed the 'manylinux2014' variant of XGBoost. Certain features such as GPU algorithms or federated learning are not available. To use these features, please upgrade to a recent Linux distro with glibc 2.28+, and install the 'manylinux_2_28' variant.\n",
      "  warnings.warn(\n",
      "2025-04-06 17:21:07,599 INFO XGBoost-PySpark: predict_udf Do the inference on the CPUs\n",
      "                                                                                \r"
     ]
    },
    {
     "name": "stdout",
     "output_type": "stream",
     "text": [
      "\n",
      "XGBoost Regressor (Data Size: 10.0%)\n",
      "RMSE: 0.5631\n",
      "R-Squared: 0.5032\n",
      "Training Time: 8.70 sec - Inference Latency: 0.26 sec\n",
      "*Training* CPU: 27.69% | Memory: 92.39%\n",
      "*Training* Disk Read: 91.49 MB | Write: 194.69 MB\n",
      "*Inference* CPU: 23.20% | Memory: 92.70%\n",
      "*Inference* Disk Read: 0.11 MB | Write: 29.16 MB\n",
      "\n",
      "Training GBT Regressor...\n"
     ]
    },
    {
     "name": "stderr",
     "output_type": "stream",
     "text": [
      "                                                                                \r"
     ]
    },
    {
     "name": "stdout",
     "output_type": "stream",
     "text": [
      "\n",
      "GBT Regressor (Data Size: 10.0%)\n",
      "RMSE: 0.5762\n",
      "R-Squared: 0.4799\n",
      "Training Time: 86.32 sec - Inference Latency: 0.14 sec\n",
      "*Training* CPU: 67.13% | Memory: 92.40%\n",
      "*Training* Disk Read: 20.22 MB | Write: 57.43 MB\n",
      "*Inference* CPU: 4.40% | Memory: 87.20%\n",
      "*Inference* Disk Read: 0.35 MB | Write: 0.48 MB\n",
      "\n",
      "Training Decision Tree Regressor...\n"
     ]
    },
    {
     "name": "stderr",
     "output_type": "stream",
     "text": [
      "                                                                                \r"
     ]
    },
    {
     "name": "stdout",
     "output_type": "stream",
     "text": [
      "\n",
      "Decision Tree Regressor (Data Size: 10.0%)\n",
      "RMSE: 0.6614\n",
      "R-Squared: 0.3149\n",
      "Training Time: 2.47 sec - Inference Latency: 0.08 sec\n",
      "*Training* CPU: 56.23% | Memory: 87.20%\n",
      "*Training* Disk Read: 1.22 MB | Write: 4.93 MB\n",
      "*Inference* CPU: 3.30% | Memory: 87.20%\n",
      "*Inference* Disk Read: 0.00 MB | Write: 0.57 MB\n",
      "Training with 25.0% of data\n",
      "\n",
      "Training Random Forest Regressor...\n"
     ]
    },
    {
     "name": "stderr",
     "output_type": "stream",
     "text": [
      "2025-04-06 17:23:47,586 INFO XGBoost-PySpark: _fit Running xgboost-2.1.4 on 2 workers with\n",
      "\tbooster params: {'objective': 'reg:squarederror', 'device': 'cpu', 'nthread': 1}\n",
      "\ttrain_call_kwargs_params: {'verbose_eval': True, 'num_boost_round': 100}\n",
      "\tdmatrix_kwargs: {'nthread': 1, 'missing': nan}\n"
     ]
    },
    {
     "name": "stdout",
     "output_type": "stream",
     "text": [
      "\n",
      "Random Forest Regressor (Data Size: 25.0%)\n",
      "RMSE: 0.6568\n",
      "R-Squared: 0.3242\n",
      "Training Time: 37.51 sec - Inference Latency: 0.84 sec\n",
      "*Training* CPU: 81.33% | Memory: 88.29%\n",
      "*Training* Disk Read: 4.01 MB | Write: 44.23 MB\n",
      "*Inference* CPU: 11.70% | Memory: 91.20%\n",
      "*Inference* Disk Read: 0.00 MB | Write: 0.00 MB\n",
      "\n",
      "Training XGBoost Regressor...\n"
     ]
    },
    {
     "name": "stderr",
     "output_type": "stream",
     "text": [
      "/usr/local/lib/python3.8/dist-packages/xgboost/core.py:265: FutureWarning: Your system has an old version of glibc (< 2.28). We will stop supporting Linux distros with glibc older than 2.28 after **May 31, 2025**. Please upgrade to a recent Linux distro (with glibc 2.28+) to use future versions of XGBoost.\n",
      "Note: You have installed the 'manylinux2014' variant of XGBoost. Certain features such as GPU algorithms or federated learning are not available. To use these features, please upgrade to a recent Linux distro with glibc 2.28+, and install the 'manylinux_2_28' variant.\n",
      "  warnings.warn(\n",
      "/usr/local/lib/python3.8/dist-packages/xgboost/core.py:265: FutureWarning: Your system has an old version of glibc (< 2.28). We will stop supporting Linux distros with glibc older than 2.28 after **May 31, 2025**. Please upgrade to a recent Linux distro (with glibc 2.28+) to use future versions of XGBoost.\n",
      "Note: You have installed the 'manylinux2014' variant of XGBoost. Certain features such as GPU algorithms or federated learning are not available. To use these features, please upgrade to a recent Linux distro with glibc 2.28+, and install the 'manylinux_2_28' variant.\n",
      "  warnings.warn(\n",
      "2025-04-06 17:23:49,638 INFO XGBoost-PySpark: _train_booster Training on CPUs\n",
      "[17:23:50] Task 0 got rank 0[17:23:50] Task 1 got rank 1\n",
      "\n",
      "2025-04-06 17:23:52,501 INFO XGBoost-PySpark: _fit Finished xgboost training!   \n",
      "/usr/local/lib/python3.8/dist-packages/xgboost/core.py:265: FutureWarning: Your system has an old version of glibc (< 2.28). We will stop supporting Linux distros with glibc older than 2.28 after **May 31, 2025**. Please upgrade to a recent Linux distro (with glibc 2.28+) to use future versions of XGBoost.\n",
      "Note: You have installed the 'manylinux2014' variant of XGBoost. Certain features such as GPU algorithms or federated learning are not available. To use these features, please upgrade to a recent Linux distro with glibc 2.28+, and install the 'manylinux_2_28' variant.\n",
      "  warnings.warn(\n",
      "/usr/local/lib/python3.8/dist-packages/xgboost/core.py:265: FutureWarning: Your system has an old version of glibc (< 2.28). We will stop supporting Linux distros with glibc older than 2.28 after **May 31, 2025**. Please upgrade to a recent Linux distro (with glibc 2.28+) to use future versions of XGBoost.\n",
      "Note: You have installed the 'manylinux2014' variant of XGBoost. Certain features such as GPU algorithms or federated learning are not available. To use these features, please upgrade to a recent Linux distro with glibc 2.28+, and install the 'manylinux_2_28' variant.\n",
      "  warnings.warn(\n",
      "/usr/local/lib/python3.8/dist-packages/xgboost/core.py:265: FutureWarning: Your system has an old version of glibc (< 2.28). We will stop supporting Linux distros with glibc older than 2.28 after **May 31, 2025**. Please upgrade to a recent Linux distro (with glibc 2.28+) to use future versions of XGBoost.\n",
      "Note: You have installed the 'manylinux2014' variant of XGBoost. Certain features such as GPU algorithms or federated learning are not available. To use these features, please upgrade to a recent Linux distro with glibc 2.28+, and install the 'manylinux_2_28' variant.\n",
      "  warnings.warn(\n",
      "/usr/local/lib/python3.8/dist-packages/xgboost/core.py:265: FutureWarning: Your system has an old version of glibc (< 2.28). We will stop supporting Linux distros with glibc older than 2.28 after **May 31, 2025**. Please upgrade to a recent Linux distro (with glibc 2.28+) to use future versions of XGBoost.\n",
      "Note: You have installed the 'manylinux2014' variant of XGBoost. Certain features such as GPU algorithms or federated learning are not available. To use these features, please upgrade to a recent Linux distro with glibc 2.28+, and install the 'manylinux_2_28' variant.\n",
      "  warnings.warn(\n",
      "/usr/local/lib/python3.8/dist-packages/xgboost/core.py:265: FutureWarning: Your system has an old version of glibc (< 2.28). We will stop supporting Linux distros with glibc older than 2.28 after **May 31, 2025**. Please upgrade to a recent Linux distro (with glibc 2.28+) to use future versions of XGBoost.\n",
      "Note: You have installed the 'manylinux2014' variant of XGBoost. Certain features such as GPU algorithms or federated learning are not available. To use these features, please upgrade to a recent Linux distro with glibc 2.28+, and install the 'manylinux_2_28' variant.\n",
      "  warnings.warn(\n",
      "/usr/local/lib/python3.8/dist-packages/xgboost/core.py:265: FutureWarning: Your system has an old version of glibc (< 2.28). We will stop supporting Linux distros with glibc older than 2.28 after **May 31, 2025**. Please upgrade to a recent Linux distro (with glibc 2.28+) to use future versions of XGBoost.\n",
      "Note: You have installed the 'manylinux2014' variant of XGBoost. Certain features such as GPU algorithms or federated learning are not available. To use these features, please upgrade to a recent Linux distro with glibc 2.28+, and install the 'manylinux_2_28' variant.\n",
      "  warnings.warn(\n",
      "2025-04-06 17:24:02,308 INFO XGBoost-PySpark: predict_udf Do the inference on the CPUs\n",
      "2025-04-06 17:24:02,880 INFO XGBoost-PySpark: predict_udf Do the inference on the CPUs\n",
      "                                                                                \r"
     ]
    },
    {
     "name": "stdout",
     "output_type": "stream",
     "text": [
      "\n",
      "XGBoost Regressor (Data Size: 25.0%)\n",
      "RMSE: 0.5312\n",
      "R-Squared: 0.5579\n",
      "Training Time: 5.10 sec - Inference Latency: 0.10 sec\n",
      "*Training* CPU: 21.97% | Memory: 89.42%\n",
      "*Training* Disk Read: 0.66 MB | Write: 0.38 MB\n",
      "*Inference* CPU: 2.50% | Memory: 89.70%\n",
      "*Inference* Disk Read: 0.00 MB | Write: 0.00 MB\n",
      "\n",
      "Training GBT Regressor...\n"
     ]
    },
    {
     "name": "stderr",
     "output_type": "stream",
     "text": [
      "                                                                                \r"
     ]
    },
    {
     "name": "stdout",
     "output_type": "stream",
     "text": [
      "\n",
      "GBT Regressor (Data Size: 25.0%)\n",
      "RMSE: 0.5615\n",
      "R-Squared: 0.5062\n",
      "Training Time: 82.13 sec - Inference Latency: 0.14 sec\n",
      "*Training* CPU: 65.31% | Memory: 92.34%\n",
      "*Training* Disk Read: 39.24 MB | Write: 109.80 MB\n",
      "*Inference* CPU: 11.30% | Memory: 87.00%\n",
      "*Inference* Disk Read: 0.00 MB | Write: 0.41 MB\n",
      "\n",
      "Training Decision Tree Regressor...\n"
     ]
    },
    {
     "name": "stderr",
     "output_type": "stream",
     "text": [
      "                                                                                \r"
     ]
    },
    {
     "name": "stdout",
     "output_type": "stream",
     "text": [
      "\n",
      "Decision Tree Regressor (Data Size: 25.0%)\n",
      "RMSE: 0.6387\n",
      "R-Squared: 0.3609\n",
      "Training Time: 2.89 sec - Inference Latency: 0.08 sec\n",
      "*Training* CPU: 66.20% | Memory: 86.97%\n",
      "*Training* Disk Read: 0.08 MB | Write: 0.50 MB\n",
      "*Inference* CPU: 2.50% | Memory: 86.90%\n",
      "*Inference* Disk Read: 0.00 MB | Write: 0.00 MB\n",
      "Training with 50.0% of data\n",
      "\n",
      "Training Random Forest Regressor...\n"
     ]
    },
    {
     "name": "stderr",
     "output_type": "stream",
     "text": [
      "2025-04-06 17:26:55,276 INFO XGBoost-PySpark: _fit Running xgboost-2.1.4 on 2 workers with\n",
      "\tbooster params: {'objective': 'reg:squarederror', 'device': 'cpu', 'nthread': 1}\n",
      "\ttrain_call_kwargs_params: {'verbose_eval': True, 'num_boost_round': 100}\n",
      "\tdmatrix_kwargs: {'nthread': 1, 'missing': nan}\n"
     ]
    },
    {
     "name": "stdout",
     "output_type": "stream",
     "text": [
      "\n",
      "Random Forest Regressor (Data Size: 50.0%)\n",
      "RMSE: 0.6579\n",
      "R-Squared: 0.3221\n",
      "Training Time: 55.47 sec - Inference Latency: 0.94 sec\n",
      "*Training* CPU: 83.47% | Memory: 87.21%\n",
      "*Training* Disk Read: 81.64 MB | Write: 195.86 MB\n",
      "*Inference* CPU: 13.80% | Memory: 91.00%\n",
      "*Inference* Disk Read: 0.00 MB | Write: 0.18 MB\n",
      "\n",
      "Training XGBoost Regressor...\n"
     ]
    },
    {
     "name": "stderr",
     "output_type": "stream",
     "text": [
      "/usr/local/lib/python3.8/dist-packages/xgboost/core.py:265: FutureWarning: Your system has an old version of glibc (< 2.28). We will stop supporting Linux distros with glibc older than 2.28 after **May 31, 2025**. Please upgrade to a recent Linux distro (with glibc 2.28+) to use future versions of XGBoost.\n",
      "Note: You have installed the 'manylinux2014' variant of XGBoost. Certain features such as GPU algorithms or federated learning are not available. To use these features, please upgrade to a recent Linux distro with glibc 2.28+, and install the 'manylinux_2_28' variant.\n",
      "  warnings.warn(\n",
      "/usr/local/lib/python3.8/dist-packages/xgboost/core.py:265: FutureWarning: Your system has an old version of glibc (< 2.28). We will stop supporting Linux distros with glibc older than 2.28 after **May 31, 2025**. Please upgrade to a recent Linux distro (with glibc 2.28+) to use future versions of XGBoost.\n",
      "Note: You have installed the 'manylinux2014' variant of XGBoost. Certain features such as GPU algorithms or federated learning are not available. To use these features, please upgrade to a recent Linux distro with glibc 2.28+, and install the 'manylinux_2_28' variant.\n",
      "  warnings.warn(\n",
      "2025-04-06 17:26:57,218 INFO XGBoost-PySpark: _train_booster Training on CPUs\n",
      "[17:26:58] Task 0 got rank 0[17:26:58] Task 1 got rank 1\n",
      "\n",
      "2025-04-06 17:27:00,449 INFO XGBoost-PySpark: _fit Finished xgboost training!   \n",
      "/usr/local/lib/python3.8/dist-packages/xgboost/core.py:265: FutureWarning: Your system has an old version of glibc (< 2.28). We will stop supporting Linux distros with glibc older than 2.28 after **May 31, 2025**. Please upgrade to a recent Linux distro (with glibc 2.28+) to use future versions of XGBoost.\n",
      "Note: You have installed the 'manylinux2014' variant of XGBoost. Certain features such as GPU algorithms or federated learning are not available. To use these features, please upgrade to a recent Linux distro with glibc 2.28+, and install the 'manylinux_2_28' variant.\n",
      "  warnings.warn(\n",
      "/usr/local/lib/python3.8/dist-packages/xgboost/core.py:265: FutureWarning: Your system has an old version of glibc (< 2.28). We will stop supporting Linux distros with glibc older than 2.28 after **May 31, 2025**. Please upgrade to a recent Linux distro (with glibc 2.28+) to use future versions of XGBoost.\n",
      "Note: You have installed the 'manylinux2014' variant of XGBoost. Certain features such as GPU algorithms or federated learning are not available. To use these features, please upgrade to a recent Linux distro with glibc 2.28+, and install the 'manylinux_2_28' variant.\n",
      "  warnings.warn(\n",
      "/usr/local/lib/python3.8/dist-packages/xgboost/core.py:265: FutureWarning: Your system has an old version of glibc (< 2.28). We will stop supporting Linux distros with glibc older than 2.28 after **May 31, 2025**. Please upgrade to a recent Linux distro (with glibc 2.28+) to use future versions of XGBoost.\n",
      "Note: You have installed the 'manylinux2014' variant of XGBoost. Certain features such as GPU algorithms or federated learning are not available. To use these features, please upgrade to a recent Linux distro with glibc 2.28+, and install the 'manylinux_2_28' variant.\n",
      "  warnings.warn(\n",
      "/usr/local/lib/python3.8/dist-packages/xgboost/core.py:265: FutureWarning: Your system has an old version of glibc (< 2.28). We will stop supporting Linux distros with glibc older than 2.28 after **May 31, 2025**. Please upgrade to a recent Linux distro (with glibc 2.28+) to use future versions of XGBoost.\n",
      "Note: You have installed the 'manylinux2014' variant of XGBoost. Certain features such as GPU algorithms or federated learning are not available. To use these features, please upgrade to a recent Linux distro with glibc 2.28+, and install the 'manylinux_2_28' variant.\n",
      "  warnings.warn(\n",
      "/usr/local/lib/python3.8/dist-packages/xgboost/core.py:265: FutureWarning: Your system has an old version of glibc (< 2.28). We will stop supporting Linux distros with glibc older than 2.28 after **May 31, 2025**. Please upgrade to a recent Linux distro (with glibc 2.28+) to use future versions of XGBoost.\n",
      "Note: You have installed the 'manylinux2014' variant of XGBoost. Certain features such as GPU algorithms or federated learning are not available. To use these features, please upgrade to a recent Linux distro with glibc 2.28+, and install the 'manylinux_2_28' variant.\n",
      "  warnings.warn(\n",
      "/usr/local/lib/python3.8/dist-packages/xgboost/core.py:265: FutureWarning: Your system has an old version of glibc (< 2.28). We will stop supporting Linux distros with glibc older than 2.28 after **May 31, 2025**. Please upgrade to a recent Linux distro (with glibc 2.28+) to use future versions of XGBoost.\n",
      "Note: You have installed the 'manylinux2014' variant of XGBoost. Certain features such as GPU algorithms or federated learning are not available. To use these features, please upgrade to a recent Linux distro with glibc 2.28+, and install the 'manylinux_2_28' variant.\n",
      "  warnings.warn(\n",
      "2025-04-06 17:27:10,406 INFO XGBoost-PySpark: predict_udf Do the inference on the CPUs\n",
      "2025-04-06 17:27:11,325 INFO XGBoost-PySpark: predict_udf Do the inference on the CPUs\n",
      "                                                                                \r"
     ]
    },
    {
     "name": "stdout",
     "output_type": "stream",
     "text": [
      "\n",
      "XGBoost Regressor (Data Size: 50.0%)\n",
      "RMSE: 0.5215\n",
      "R-Squared: 0.5740\n",
      "Training Time: 5.33 sec - Inference Latency: 0.12 sec\n",
      "*Training* CPU: 23.08% | Memory: 91.42%\n",
      "*Training* Disk Read: 0.86 MB | Write: 0.32 MB\n",
      "*Inference* CPU: 5.90% | Memory: 91.90%\n",
      "*Inference* Disk Read: 0.00 MB | Write: 0.00 MB\n",
      "\n",
      "Training GBT Regressor...\n"
     ]
    },
    {
     "name": "stderr",
     "output_type": "stream",
     "text": [
      "                                                                                \r"
     ]
    },
    {
     "name": "stdout",
     "output_type": "stream",
     "text": [
      "\n",
      "GBT Regressor (Data Size: 50.0%)\n",
      "RMSE: 0.5560\n",
      "R-Squared: 0.5158\n",
      "Training Time: 87.65 sec - Inference Latency: 0.11 sec\n",
      "*Training* CPU: 66.51% | Memory: 93.24%\n",
      "*Training* Disk Read: 164.70 MB | Write: 191.29 MB\n",
      "*Inference* CPU: 3.00% | Memory: 88.50%\n",
      "*Inference* Disk Read: 0.00 MB | Write: 0.49 MB\n",
      "\n",
      "Training Decision Tree Regressor...\n"
     ]
    },
    {
     "name": "stderr",
     "output_type": "stream",
     "text": [
      "                                                                                \r"
     ]
    },
    {
     "name": "stdout",
     "output_type": "stream",
     "text": [
      "\n",
      "Decision Tree Regressor (Data Size: 50.0%)\n",
      "RMSE: 0.6263\n",
      "R-Squared: 0.3856\n",
      "Training Time: 3.40 sec - Inference Latency: 0.07 sec\n",
      "*Training* CPU: 59.52% | Memory: 88.57%\n",
      "*Training* Disk Read: 0.55 MB | Write: 0.08 MB\n",
      "*Inference* CPU: 2.00% | Memory: 88.60%\n",
      "*Inference* Disk Read: 0.00 MB | Write: 0.00 MB\n",
      "Training with 100% of data\n",
      "\n",
      "Training Random Forest Regressor...\n"
     ]
    },
    {
     "name": "stderr",
     "output_type": "stream",
     "text": [
      "2025-04-06 17:30:34,340 INFO XGBoost-PySpark: _fit Running xgboost-2.1.4 on 2 workers with\n",
      "\tbooster params: {'objective': 'reg:squarederror', 'device': 'cpu', 'nthread': 1}\n",
      "\ttrain_call_kwargs_params: {'verbose_eval': True, 'num_boost_round': 100}\n",
      "\tdmatrix_kwargs: {'nthread': 1, 'missing': nan}\n"
     ]
    },
    {
     "name": "stdout",
     "output_type": "stream",
     "text": [
      "\n",
      "Random Forest Regressor (Data Size: 100%)\n",
      "RMSE: 0.6641\n",
      "R-Squared: 0.3091\n",
      "Training Time: 79.06 sec - Inference Latency: 1.14 sec\n",
      "*Training* CPU: 86.23% | Memory: 88.16%\n",
      "*Training* Disk Read: 8.12 MB | Write: 213.23 MB\n",
      "*Inference* CPU: 13.10% | Memory: 85.70%\n",
      "*Inference* Disk Read: 0.00 MB | Write: 0.00 MB\n",
      "\n",
      "Training XGBoost Regressor...\n"
     ]
    },
    {
     "name": "stderr",
     "output_type": "stream",
     "text": [
      "/usr/local/lib/python3.8/dist-packages/xgboost/core.py:265: FutureWarning: Your system has an old version of glibc (< 2.28). We will stop supporting Linux distros with glibc older than 2.28 after **May 31, 2025**. Please upgrade to a recent Linux distro (with glibc 2.28+) to use future versions of XGBoost.\n",
      "Note: You have installed the 'manylinux2014' variant of XGBoost. Certain features such as GPU algorithms or federated learning are not available. To use these features, please upgrade to a recent Linux distro with glibc 2.28+, and install the 'manylinux_2_28' variant.\n",
      "  warnings.warn(\n",
      "/usr/local/lib/python3.8/dist-packages/xgboost/core.py:265: FutureWarning: Your system has an old version of glibc (< 2.28). We will stop supporting Linux distros with glibc older than 2.28 after **May 31, 2025**. Please upgrade to a recent Linux distro (with glibc 2.28+) to use future versions of XGBoost.\n",
      "Note: You have installed the 'manylinux2014' variant of XGBoost. Certain features such as GPU algorithms or federated learning are not available. To use these features, please upgrade to a recent Linux distro with glibc 2.28+, and install the 'manylinux_2_28' variant.\n",
      "  warnings.warn(\n",
      "2025-04-06 17:30:36,356 INFO XGBoost-PySpark: _train_booster Training on CPUs\n",
      "[17:30:37] Task 1 got rank 1[17:30:37] Task 0 got rank 0\n",
      "\n",
      "2025-04-06 17:30:40,012 INFO XGBoost-PySpark: _fit Finished xgboost training!   \n",
      "/usr/local/lib/python3.8/dist-packages/xgboost/core.py:265: FutureWarning: Your system has an old version of glibc (< 2.28). We will stop supporting Linux distros with glibc older than 2.28 after **May 31, 2025**. Please upgrade to a recent Linux distro (with glibc 2.28+) to use future versions of XGBoost.\n",
      "Note: You have installed the 'manylinux2014' variant of XGBoost. Certain features such as GPU algorithms or federated learning are not available. To use these features, please upgrade to a recent Linux distro with glibc 2.28+, and install the 'manylinux_2_28' variant.\n",
      "  warnings.warn(\n",
      "/usr/local/lib/python3.8/dist-packages/xgboost/core.py:265: FutureWarning: Your system has an old version of glibc (< 2.28). We will stop supporting Linux distros with glibc older than 2.28 after **May 31, 2025**. Please upgrade to a recent Linux distro (with glibc 2.28+) to use future versions of XGBoost.\n",
      "Note: You have installed the 'manylinux2014' variant of XGBoost. Certain features such as GPU algorithms or federated learning are not available. To use these features, please upgrade to a recent Linux distro with glibc 2.28+, and install the 'manylinux_2_28' variant.\n",
      "  warnings.warn(\n",
      "/usr/local/lib/python3.8/dist-packages/xgboost/core.py:265: FutureWarning: Your system has an old version of glibc (< 2.28). We will stop supporting Linux distros with glibc older than 2.28 after **May 31, 2025**. Please upgrade to a recent Linux distro (with glibc 2.28+) to use future versions of XGBoost.\n",
      "Note: You have installed the 'manylinux2014' variant of XGBoost. Certain features such as GPU algorithms or federated learning are not available. To use these features, please upgrade to a recent Linux distro with glibc 2.28+, and install the 'manylinux_2_28' variant.\n",
      "  warnings.warn(\n",
      "/usr/local/lib/python3.8/dist-packages/xgboost/core.py:265: FutureWarning: Your system has an old version of glibc (< 2.28). We will stop supporting Linux distros with glibc older than 2.28 after **May 31, 2025**. Please upgrade to a recent Linux distro (with glibc 2.28+) to use future versions of XGBoost.\n",
      "Note: You have installed the 'manylinux2014' variant of XGBoost. Certain features such as GPU algorithms or federated learning are not available. To use these features, please upgrade to a recent Linux distro with glibc 2.28+, and install the 'manylinux_2_28' variant.\n",
      "  warnings.warn(\n",
      "/usr/local/lib/python3.8/dist-packages/xgboost/core.py:265: FutureWarning: Your system has an old version of glibc (< 2.28). We will stop supporting Linux distros with glibc older than 2.28 after **May 31, 2025**. Please upgrade to a recent Linux distro (with glibc 2.28+) to use future versions of XGBoost.\n",
      "Note: You have installed the 'manylinux2014' variant of XGBoost. Certain features such as GPU algorithms or federated learning are not available. To use these features, please upgrade to a recent Linux distro with glibc 2.28+, and install the 'manylinux_2_28' variant.\n",
      "  warnings.warn(\n",
      "/usr/local/lib/python3.8/dist-packages/xgboost/core.py:265: FutureWarning: Your system has an old version of glibc (< 2.28). We will stop supporting Linux distros with glibc older than 2.28 after **May 31, 2025**. Please upgrade to a recent Linux distro (with glibc 2.28+) to use future versions of XGBoost.\n",
      "Note: You have installed the 'manylinux2014' variant of XGBoost. Certain features such as GPU algorithms or federated learning are not available. To use these features, please upgrade to a recent Linux distro with glibc 2.28+, and install the 'manylinux_2_28' variant.\n",
      "  warnings.warn(\n",
      "2025-04-06 17:30:48,788 INFO XGBoost-PySpark: predict_udf Do the inference on the CPUs\n",
      "2025-04-06 17:30:49,321 INFO XGBoost-PySpark: predict_udf Do the inference on the CPUs\n",
      "                                                                                \r"
     ]
    },
    {
     "name": "stdout",
     "output_type": "stream",
     "text": [
      "\n",
      "XGBoost Regressor (Data Size: 100%)\n",
      "RMSE: 0.5118\n",
      "R-Squared: 0.5897\n",
      "Training Time: 5.82 sec - Inference Latency: 0.09 sec\n",
      "*Training* CPU: 20.67% | Memory: 87.53%\n",
      "*Training* Disk Read: 9.62 MB | Write: 6.05 MB\n",
      "*Inference* CPU: 2.40% | Memory: 88.00%\n",
      "*Inference* Disk Read: 0.00 MB | Write: 0.00 MB\n",
      "\n",
      "Training GBT Regressor...\n"
     ]
    },
    {
     "name": "stderr",
     "output_type": "stream",
     "text": [
      "                                                                                \r"
     ]
    },
    {
     "name": "stdout",
     "output_type": "stream",
     "text": [
      "\n",
      "GBT Regressor (Data Size: 100%)\n",
      "RMSE: 0.5589\n",
      "R-Squared: 0.5107\n",
      "Training Time: 93.29 sec - Inference Latency: 0.10 sec\n",
      "*Training* CPU: 67.43% | Memory: 91.32%\n",
      "*Training* Disk Read: 0.41 MB | Write: 38.70 MB\n",
      "*Inference* CPU: 2.30% | Memory: 86.50%\n",
      "*Inference* Disk Read: 0.00 MB | Write: 0.00 MB\n",
      "\n",
      "Training Decision Tree Regressor...\n"
     ]
    },
    {
     "name": "stderr",
     "output_type": "stream",
     "text": [
      "[Stage 6485:============================>                           (4 + 4) / 8]\r"
     ]
    },
    {
     "name": "stdout",
     "output_type": "stream",
     "text": [
      "\n",
      "Decision Tree Regressor (Data Size: 100%)\n",
      "RMSE: 0.6146\n",
      "R-Squared: 0.4084\n",
      "Training Time: 4.51 sec - Inference Latency: 0.07 sec\n",
      "*Training* CPU: 65.68% | Memory: 86.52%\n",
      "*Training* Disk Read: 0.25 MB | Write: 0.48 MB\n",
      "*Inference* CPU: 2.60% | Memory: 86.60%\n",
      "*Inference* Disk Read: 0.00 MB | Write: 16.70 MB\n"
     ]
    },
    {
     "name": "stderr",
     "output_type": "stream",
     "text": [
      "                                                                                \r"
     ]
    }
   ],
   "execution_count": 9
  },
  {
   "metadata": {
    "ExecuteTime": {
     "end_time": "2025-04-06T15:46:47.026366Z",
     "start_time": "2025-04-06T15:45:45.854077Z"
    }
   },
   "cell_type": "code",
   "source": [
    "# Ξεχωριστό cell για το μοντέλο KNN, καθώς είναι διαφορετική η όλη διαδικασία για το συγκεκριμένο μοντέλο σε αντίθεση με τα προηγούμενα.\n",
    "\n",
    "# UDF για μετατροπή Vector σε λίστα\n",
    "vector_to_array_udf = udf(lambda v: v.toArray().tolist(), ArrayType(DoubleType()))\n",
    "\n",
    "monitor = ResourceMonitorListener()\n",
    "\n",
    "# Repartition και cache\n",
    "train_data = train_data.repartition(20).cache()\n",
    "train_count = train_data.count()\n",
    "\n",
    "sizes = [0.1, 0.25, 0.5, 1]\n",
    "\n",
    "for size in sizes:\n",
    "    print(f\"\\nKNN Training with {size * 100}% of data\")\n",
    "\n",
    "    # Υποσύνολο δεδομένων\n",
    "    train_subset = train_data if size == 1 else train_data.sample(fraction=size, seed=42)\n",
    "\n",
    "    # Μετατροπή σε pandas\n",
    "    train_pd = train_subset.select(\n",
    "        vector_to_array_udf(\"scaled_features\").alias(\"features\"), \"trip_duration\"\n",
    "    ).dropna().toPandas()\n",
    "\n",
    "    test_pd = test_data.select(\n",
    "        vector_to_array_udf(\"scaled_features\").alias(\"features\"), \"trip_duration\"\n",
    "    ).dropna().toPandas()\n",
    "\n",
    "    X_train = np.vstack(train_pd[\"features\"].values)\n",
    "    y_train = train_pd[\"trip_duration\"].values\n",
    "    X_test = np.vstack(test_pd[\"features\"].values)\n",
    "    y_test = test_pd[\"trip_duration\"].values\n",
    "\n",
    "    # Εκπαίδευση\n",
    "    print(\"Training K-Nearest Neighbors Regressor (KNN)...\")\n",
    "    monitor.start_monitoring()\n",
    "    start_train = time.time()\n",
    "\n",
    "    knn_model = KNeighborsRegressor(\n",
    "        n_neighbors=7,\n",
    "        weights='distance',\n",
    "        algorithm='auto',\n",
    "        leaf_size=30,\n",
    "        p=2,\n",
    "        n_jobs=-1\n",
    "    )\n",
    "    knn_model.fit(X_train, y_train)\n",
    "\n",
    "    training_time = time.time() - start_train\n",
    "    train_metrics = monitor.stop_monitoring()\n",
    "\n",
    "    # Inference\n",
    "    time.sleep(3)\n",
    "    monitor.start_monitoring()\n",
    "    start_infer = time.time()\n",
    "\n",
    "    y_pred = knn_model.predict(X_test)\n",
    "\n",
    "    inference_latency = time.time() - start_infer\n",
    "    infer_metrics = monitor.stop_monitoring()\n",
    "\n",
    "    # Καθαρισμός αρνητικών προβλέψεων\n",
    "    y_pred = np.where(y_pred < 0, 0, np.round(y_pred))\n",
    "\n",
    "    # Μετρικές\n",
    "    rmse = np.sqrt(mean_squared_error(y_test, y_pred))\n",
    "    r2 = r2_score(y_test, y_pred)\n",
    "\n",
    "    # Εκτύπωση αποτελεσμάτων\n",
    "    print(f\"\\nKNN Results for {size * 100}% data:\")\n",
    "    print(f\"RMSE: {rmse:.4f}\")\n",
    "    print(f\"R-Squared: {r2:.4f}\")\n",
    "    print(f\"Training Time: {training_time:.2f} sec | Inference Latency: {inference_latency:.2f} sec\")\n",
    "    print(f\"*Training* CPU: {train_metrics['cpu_usage']:.2f}% | Memory: {train_metrics['mem_usage']:.2f}%\")\n",
    "    print(f\"*Training* Disk Read: {train_metrics['disk_read_mb']:.2f} MB | Write: {train_metrics['disk_write_mb']:.2f} MB\")\n",
    "    print(f\"*Inference* CPU: {infer_metrics['cpu_usage']:.2f}% | Memory: {infer_metrics['mem_usage']:.2f}%\")\n",
    "    print(f\"*Inference* Disk Read: {infer_metrics['disk_read_mb']:.2f} MB | Write: {infer_metrics['disk_write_mb']:.2f} MB\")\n"
   ],
   "id": "c52cd1f70dc52b46",
   "outputs": [
    {
     "name": "stderr",
     "output_type": "stream",
     "text": [
      "                                                                                \r"
     ]
    },
    {
     "name": "stdout",
     "output_type": "stream",
     "text": [
      "\n",
      "KNN Training with 10.0% of data\n"
     ]
    },
    {
     "name": "stderr",
     "output_type": "stream",
     "text": [
      "                                                                                \r"
     ]
    },
    {
     "name": "stdout",
     "output_type": "stream",
     "text": [
      "Training K-Nearest Neighbors Regressor (KNN)...\n",
      "\n",
      "KNN Results for 10.0% data:\n",
      "RMSE: 0.6926\n",
      "R-Squared: 0.2486\n",
      "Training Time: 0.02 sec | Inference Latency: 1.53 sec\n",
      "*Training* CPU: 10.40% | Memory: 77.00%\n",
      "*Training* Disk Read: 0.00 MB | Write: 0.00 MB\n",
      "*Inference* CPU: 72.35% | Memory: 77.00%\n",
      "*Inference* Disk Read: 0.38 MB | Write: 0.00 MB\n",
      "\n",
      "KNN Training with 25.0% of data\n"
     ]
    },
    {
     "name": "stderr",
     "output_type": "stream",
     "text": [
      "                                                                                \r"
     ]
    },
    {
     "name": "stdout",
     "output_type": "stream",
     "text": [
      "Training K-Nearest Neighbors Regressor (KNN)...\n",
      "\n",
      "KNN Results for 25.0% data:\n",
      "RMSE: 0.6662\n",
      "R-Squared: 0.3048\n",
      "Training Time: 0.07 sec | Inference Latency: 1.46 sec\n",
      "*Training* CPU: 12.10% | Memory: 77.20%\n",
      "*Training* Disk Read: 0.00 MB | Write: 0.00 MB\n",
      "*Inference* CPU: 71.50% | Memory: 77.10%\n",
      "*Inference* Disk Read: 0.00 MB | Write: 0.12 MB\n",
      "\n",
      "KNN Training with 50.0% of data\n"
     ]
    },
    {
     "name": "stderr",
     "output_type": "stream",
     "text": [
      "                                                                                \r"
     ]
    },
    {
     "name": "stdout",
     "output_type": "stream",
     "text": [
      "Training K-Nearest Neighbors Regressor (KNN)...\n",
      "\n",
      "KNN Results for 50.0% data:\n",
      "RMSE: 0.6431\n",
      "R-Squared: 0.3522\n",
      "Training Time: 0.15 sec | Inference Latency: 2.13 sec\n",
      "*Training* CPU: 10.30% | Memory: 77.40%\n",
      "*Training* Disk Read: 0.00 MB | Write: 0.00 MB\n",
      "*Inference* CPU: 68.60% | Memory: 77.40%\n",
      "*Inference* Disk Read: 0.39 MB | Write: 0.07 MB\n",
      "\n",
      "KNN Training with 100% of data\n"
     ]
    },
    {
     "name": "stderr",
     "output_type": "stream",
     "text": [
      "                                                                                \r"
     ]
    },
    {
     "name": "stdout",
     "output_type": "stream",
     "text": [
      "Training K-Nearest Neighbors Regressor (KNN)...\n",
      "\n",
      "KNN Results for 100% data:\n",
      "RMSE: 0.6288\n",
      "R-Squared: 0.3807\n",
      "Training Time: 0.40 sec | Inference Latency: 3.21 sec\n",
      "*Training* CPU: 13.60% | Memory: 79.00%\n",
      "*Training* Disk Read: 0.00 MB | Write: 0.00 MB\n",
      "*Inference* CPU: 77.60% | Memory: 79.00%\n",
      "*Inference* Disk Read: 0.00 MB | Write: 0.05 MB\n"
     ]
    }
   ],
   "execution_count": 8
  }
 ],
 "metadata": {
  "kernelspec": {
   "display_name": "Python 3",
   "language": "python",
   "name": "python3"
  },
  "language_info": {
   "codemirror_mode": {
    "name": "ipython",
    "version": 2
   },
   "file_extension": ".py",
   "mimetype": "text/x-python",
   "name": "python",
   "nbconvert_exporter": "python",
   "pygments_lexer": "ipython2",
   "version": "2.7.6"
  }
 },
 "nbformat": 4,
 "nbformat_minor": 5
}
